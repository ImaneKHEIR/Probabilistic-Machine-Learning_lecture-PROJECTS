{
 "cells": [
  {
   "cell_type": "markdown",
   "id": "4342b00e",
   "metadata": {},
   "source": [
    "# COMMENTS:\n",
    "\n",
    "- [23.Mai.2025] Before starting with classification tasks (like you do well in the 'classification_setup1.ipynb notebook), it is a good practice to provide a description of the dataset. First of all, very general features of the dataset, such as the origin, the meaining, and so on. Next, you can include the number of samples, the number of features, and the number of classes.\n",
    "  More fine-grained information about the dataset can be provided in the form of a table, such as the number of samples per class, missing values, and the number of features per class.\n",
    "  You can start doing that already in the notebook for the report. \n",
    "  "
   ]
  },
  {
   "cell_type": "markdown",
   "id": "f34cdb03",
   "metadata": {},
   "source": []
  }
 ],
 "metadata": {
  "language_info": {
   "name": "python"
  }
 },
 "nbformat": 4,
 "nbformat_minor": 5
}
