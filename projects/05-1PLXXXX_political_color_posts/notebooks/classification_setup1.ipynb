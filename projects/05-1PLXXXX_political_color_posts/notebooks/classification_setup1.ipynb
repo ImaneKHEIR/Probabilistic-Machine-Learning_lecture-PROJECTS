{
 "cells": [
  {
   "cell_type": "code",
   "execution_count": 8,
   "metadata": {
    "executionInfo": {
     "elapsed": 18,
     "status": "ok",
     "timestamp": 1746097796590,
     "user": {
      "displayName": "Lukas Pasold",
      "userId": "06420352777570022367"
     },
     "user_tz": -120
    },
    "id": "tpxrwoR5dh1d"
   },
   "outputs": [],
   "source": [
    "import pandas as pd\n",
    "from sklearn.ensemble import RandomForestClassifier\n",
    "from sklearn.svm import SVC\n",
    "from sklearn.neural_network import MLPClassifier\n",
    "from sklearn.model_selection import train_test_split\n",
    "from sklearn.preprocessing import StandardScaler\n",
    "from sklearn.metrics import classification_report"
   ]
  },
  {
   "cell_type": "code",
   "execution_count": null,
   "metadata": {
    "executionInfo": {
     "elapsed": 240,
     "status": "ok",
     "timestamp": 1746097798168,
     "user": {
      "displayName": "Lukas Pasold",
      "userId": "06420352777570022367"
     },
     "user_tz": -120
    },
    "id": "oEPOJV8LYNGX"
   },
   "outputs": [],
   "source": [
    "df = pd.read_csv('final-features-rgb.csv')\n",
    "X = df[[f'feature_{i}' for i in range(12)]]\n",
    "y = df['party']\n",
    "X_train, X_test, y_train, y_test = train_test_split(X, y, stratify=y, test_size=0.2, random_state=42)"
   ]
  },
  {
   "cell_type": "code",
   "execution_count": null,
   "metadata": {
    "executionInfo": {
     "elapsed": 11,
     "status": "ok",
     "timestamp": 1746097799752,
     "user": {
      "displayName": "Lukas Pasold",
      "userId": "06420352777570022367"
     },
     "user_tz": -120
    },
    "id": "oLJjm3uTgZNM"
   },
   "outputs": [],
   "source": [
    "# extract model metrics\n",
    "def extract_metrics(report):\n",
    "    metrics = {}\n",
    "    lines = report.split(\"\\n\")\n",
    "    for line in lines:\n",
    "        if line.startswith(' ') and len(line.split()) > 1:\n",
    "            parts = line.split()\n",
    "            if len(parts) >= 5:\n",
    "                label = parts[0]\n",
    "                try:\n",
    "                    precision = float(parts[1])\n",
    "                    recall = float(parts[2])\n",
    "                    f1_score = float(parts[3])\n",
    "                    support = int(parts[4])\n",
    "                    metrics[label] = {\n",
    "                        'Precision': precision,\n",
    "                        'Recall': recall,\n",
    "                        'F1-Score': f1_score,\n",
    "                        'Support': support\n",
    "                    }\n",
    "                except ValueError:\n",
    "                    continue  \n",
    "    return metrics"
   ]
  },
  {
   "cell_type": "code",
   "execution_count": null,
   "metadata": {
    "colab": {
     "base_uri": "https://localhost:8080/"
    },
    "executionInfo": {
     "elapsed": 10130,
     "status": "ok",
     "timestamp": 1746097811728,
     "user": {
      "displayName": "Lukas Pasold",
      "userId": "06420352777570022367"
     },
     "user_tz": -120
    },
    "id": "d2MDOB3pYG3U",
    "outputId": "ea35b411-c73b-4f56-a6b1-ad5b0da31e92"
   },
   "outputs": [
    {
     "name": "stdout",
     "output_type": "stream",
     "text": [
      "=== Random Forest ===\n",
      "              precision    recall  f1-score   support\n",
      "\n",
      "         afd       0.72      0.35      0.47       411\n",
      "         cdu       0.48      0.62      0.54      1138\n",
      "         csu       0.48      0.70      0.57      1355\n",
      "         fdp       0.84      0.76      0.80       841\n",
      "     gruenen       0.84      0.48      0.61       532\n",
      "       linke       0.54      0.43      0.48       845\n",
      "         spd       0.64      0.36      0.46       563\n",
      "\n",
      "    accuracy                           0.57      5685\n",
      "   macro avg       0.65      0.53      0.56      5685\n",
      "weighted avg       0.61      0.57      0.57      5685\n",
      "\n"
     ]
    }
   ],
   "source": [
    "# 1. Random Forest \n",
    "rf = RandomForestClassifier(class_weight='balanced', random_state=42)\n",
    "rf.fit(X_train, y_train)\n",
    "y_pred_rf = rf.predict(X_test)\n",
    "report_rf = classification_report(y_test, y_pred_rf)\n",
    "metrics_rf = extract_metrics(report_rf)\n",
    "print(\"=== Random Forest ===\")\n",
    "print(report_rf)"
   ]
  },
  {
   "cell_type": "code",
   "execution_count": null,
   "metadata": {
    "colab": {
     "base_uri": "https://localhost:8080/"
    },
    "executionInfo": {
     "elapsed": 59974,
     "status": "ok",
     "timestamp": 1746097874362,
     "user": {
      "displayName": "Lukas Pasold",
      "userId": "06420352777570022367"
     },
     "user_tz": -120
    },
    "id": "P41epFqdYA0-",
    "outputId": "d51d042f-e3da-4f4b-846d-3b44f8ecefb6"
   },
   "outputs": [
    {
     "name": "stdout",
     "output_type": "stream",
     "text": [
      "=== Support Vector Machine (SVM) ===\n",
      "              precision    recall  f1-score   support\n",
      "\n",
      "         afd       0.37      0.54      0.44       411\n",
      "         cdu       0.43      0.51      0.47      1138\n",
      "         csu       0.52      0.44      0.48      1355\n",
      "         fdp       0.72      0.71      0.71       841\n",
      "     gruenen       0.48      0.52      0.50       532\n",
      "       linke       0.46      0.31      0.37       845\n",
      "         spd       0.41      0.47      0.44       563\n",
      "\n",
      "    accuracy                           0.49      5685\n",
      "   macro avg       0.48      0.50      0.49      5685\n",
      "weighted avg       0.50      0.49      0.49      5685\n",
      "\n"
     ]
    }
   ],
   "source": [
    "# 2. Support Vector Machine (SVM) \n",
    "scaler = StandardScaler()\n",
    "X_train_scaled = scaler.fit_transform(X_train)\n",
    "X_test_scaled = scaler.transform(X_test)\n",
    "\n",
    "svm = SVC(kernel='rbf', class_weight='balanced', random_state=42)\n",
    "svm.fit(X_train_scaled, y_train)\n",
    "y_pred_svm = svm.predict(X_test_scaled)\n",
    "report_svm = classification_report(y_test, y_pred_svm)\n",
    "metrics_svm = extract_metrics(report_svm)\n",
    "print(\"=== Support Vector Machine (SVM) ===\")\n",
    "print(report_svm)"
   ]
  },
  {
   "cell_type": "code",
   "execution_count": null,
   "metadata": {
    "colab": {
     "base_uri": "https://localhost:8080/"
    },
    "executionInfo": {
     "elapsed": 206368,
     "status": "ok",
     "timestamp": 1746098084053,
     "user": {
      "displayName": "Lukas Pasold",
      "userId": "06420352777570022367"
     },
     "user_tz": -120
    },
    "id": "I9EPf5TYc1t4",
    "outputId": "44243b50-662d-44c6-937a-ca4e1a09b797"
   },
   "outputs": [
    {
     "name": "stdout",
     "output_type": "stream",
     "text": [
      "=== MLP Classifier ===\n",
      "              precision    recall  f1-score   support\n",
      "\n",
      "         afd       0.49      0.37      0.42       411\n",
      "         cdu       0.47      0.46      0.47      1138\n",
      "         csu       0.49      0.52      0.51      1355\n",
      "         fdp       0.72      0.70      0.71       841\n",
      "     gruenen       0.46      0.53      0.49       532\n",
      "       linke       0.39      0.35      0.37       845\n",
      "         spd       0.41      0.44      0.43       563\n",
      "\n",
      "    accuracy                           0.49      5685\n",
      "   macro avg       0.49      0.48      0.48      5685\n",
      "weighted avg       0.49      0.49      0.49      5685\n",
      "\n"
     ]
    }
   ],
   "source": [
    "# 3. MLP Classifier \n",
    "mlp = MLPClassifier(\n",
    "    hidden_layer_sizes=(128, 64),\n",
    "    activation='relu',\n",
    "    learning_rate_init=0.001,\n",
    "    max_iter=1000,\n",
    "    alpha=0.0001,\n",
    "    random_state=42\n",
    ")\n",
    "\n",
    "mlp.fit(X_train_scaled, y_train)\n",
    "y_pred_mlp = mlp.predict(X_test_scaled)\n",
    "report_mlp = classification_report(y_test, y_pred_mlp)\n",
    "metrics_mlp = extract_metrics(report_mlp)\n",
    "print(\"=== MLP Classifier ===\")\n",
    "print(report_mlp)"
   ]
  },
  {
   "cell_type": "code",
   "execution_count": null,
   "metadata": {
    "colab": {
     "base_uri": "https://localhost:8080/"
    },
    "executionInfo": {
     "elapsed": 19,
     "status": "ok",
     "timestamp": 1746098087911,
     "user": {
      "displayName": "Lukas Pasold",
      "userId": "06420352777570022367"
     },
     "user_tz": -120
    },
    "id": "mL7AP-5ig2Qc",
    "outputId": "cdf76ce0-aec3-413f-c89b-23de4480d6a9"
   },
   "outputs": [
    {
     "name": "stdout",
     "output_type": "stream",
     "text": [
      "=== Modellvergleich ===\n",
      "         Random Forest   SVM   MLP  Average\n",
      "afd               0.47  0.44  0.42     0.44\n",
      "cdu               0.54  0.47  0.47     0.49\n",
      "csu               0.57  0.48  0.51     0.52\n",
      "fdp               0.80  0.71  0.71     0.74\n",
      "gruenen           0.61  0.50  0.49     0.53\n",
      "linke             0.48  0.37  0.37     0.41\n",
      "spd               0.46  0.44  0.43     0.44\n",
      "Average           0.56  0.49  0.49     0.51\n"
     ]
    }
   ],
   "source": [
    "metrics_all = {}\n",
    "\n",
    "for label in metrics_rf:\n",
    "    metrics_all[label] = {\n",
    "        'Random Forest': metrics_rf[label]['F1-Score'],\n",
    "        'SVM': metrics_svm[label]['F1-Score'],\n",
    "        'MLP': metrics_mlp[label]['F1-Score']\n",
    "    }\n",
    "\n",
    "metrics_df = pd.DataFrame(metrics_all).T\n",
    "\n",
    "metrics_df[\"Average\"] = metrics_df.mean(axis=1)\n",
    "\n",
    "average_row = metrics_df.mean(numeric_only=True)\n",
    "average_row.name = \"Average\"\n",
    "metrics_df = pd.concat([metrics_df, average_row.to_frame().T])\n",
    "\n",
    "#Output\n",
    "print(\"=== Modellvergleich ===\")\n",
    "print(metrics_df.round(2))"
   ]
  }
 ],
 "metadata": {
  "colab": {
   "authorship_tag": "ABX9TyPnPFjebo1prAKB8aWaJNwA",
   "provenance": []
  },
  "kernelspec": {
   "display_name": "Python 3",
   "name": "python3"
  },
  "language_info": {
   "name": "python"
  }
 },
 "nbformat": 4,
 "nbformat_minor": 0
}
